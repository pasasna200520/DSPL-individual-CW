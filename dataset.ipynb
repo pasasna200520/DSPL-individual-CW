{
 "cells": [
  {
   "cell_type": "code",
   "execution_count": 1,
   "id": "42d90b0c",
   "metadata": {},
   "outputs": [],
   "source": [
    "import pandas as pd\n"
   ]
  },
  {
   "cell_type": "code",
   "execution_count": 6,
   "id": "d86bdadd",
   "metadata": {},
   "outputs": [],
   "source": [
    "df1 = pd.read_csv(\"C:\\\\Users\\\\lakit\\Downloads\\\\National Transport Report Tables — 2020_2021 - Inter Provincial Bus Routes – Semi Luxury Buses (As at May 2017) (1).csv\")"
   ]
  },
  {
   "cell_type": "code",
   "execution_count": 7,
   "id": "8f39dac6",
   "metadata": {},
   "outputs": [
    {
     "data": {
      "text/html": [
       "<div>\n",
       "<style scoped>\n",
       "    .dataframe tbody tr th:only-of-type {\n",
       "        vertical-align: middle;\n",
       "    }\n",
       "\n",
       "    .dataframe tbody tr th {\n",
       "        vertical-align: top;\n",
       "    }\n",
       "\n",
       "    .dataframe thead th {\n",
       "        text-align: right;\n",
       "    }\n",
       "</style>\n",
       "<table border=\"1\" class=\"dataframe\">\n",
       "  <thead>\n",
       "    <tr style=\"text-align: right;\">\n",
       "      <th></th>\n",
       "      <th>No</th>\n",
       "      <th>Route No.</th>\n",
       "      <th>Origin</th>\n",
       "      <th>Destination</th>\n",
       "      <th>No of Buses (Semi Luxury)</th>\n",
       "      <th>Operated Buses Per Day</th>\n",
       "      <th>Distance (KM)</th>\n",
       "      <th>No of Trip Per Day (Both Sides)</th>\n",
       "      <th>Operated KM Per Day</th>\n",
       "      <th>Travel Time (hours)</th>\n",
       "    </tr>\n",
       "  </thead>\n",
       "  <tbody>\n",
       "    <tr>\n",
       "      <th>0</th>\n",
       "      <td>1.0</td>\n",
       "      <td>2</td>\n",
       "      <td>COLOMBO</td>\n",
       "      <td>MATARA</td>\n",
       "      <td>12</td>\n",
       "      <td>12</td>\n",
       "      <td>160.2</td>\n",
       "      <td>24</td>\n",
       "      <td>3844.8</td>\n",
       "      <td>4:45</td>\n",
       "    </tr>\n",
       "    <tr>\n",
       "      <th>1</th>\n",
       "      <td>2.0</td>\n",
       "      <td>2/4-3</td>\n",
       "      <td>ANURADHAPURA</td>\n",
       "      <td>MATARA</td>\n",
       "      <td>3</td>\n",
       "      <td>3</td>\n",
       "      <td>376.0</td>\n",
       "      <td>4</td>\n",
       "      <td>1504.0</td>\n",
       "      <td>10:30</td>\n",
       "    </tr>\n",
       "    <tr>\n",
       "      <th>2</th>\n",
       "      <td>3.0</td>\n",
       "      <td>2/8</td>\n",
       "      <td>MATARA</td>\n",
       "      <td>MATALE</td>\n",
       "      <td>2</td>\n",
       "      <td>2</td>\n",
       "      <td>301.7</td>\n",
       "      <td>2</td>\n",
       "      <td>603.4</td>\n",
       "      <td>9:00</td>\n",
       "    </tr>\n",
       "    <tr>\n",
       "      <th>3</th>\n",
       "      <td>4.0</td>\n",
       "      <td>2/ 48</td>\n",
       "      <td>KADURUWELA</td>\n",
       "      <td>MATARA</td>\n",
       "      <td>2</td>\n",
       "      <td>2</td>\n",
       "      <td>382.4</td>\n",
       "      <td>2</td>\n",
       "      <td>764.8</td>\n",
       "      <td>10:40</td>\n",
       "    </tr>\n",
       "    <tr>\n",
       "      <th>4</th>\n",
       "      <td>5.0</td>\n",
       "      <td>3 - 1</td>\n",
       "      <td>COLOMBO</td>\n",
       "      <td>EMBILIPITIYA</td>\n",
       "      <td>1</td>\n",
       "      <td>1</td>\n",
       "      <td>165.8</td>\n",
       "      <td>2</td>\n",
       "      <td>331.6</td>\n",
       "      <td>4:25</td>\n",
       "    </tr>\n",
       "  </tbody>\n",
       "</table>\n",
       "</div>"
      ],
      "text/plain": [
       "    No Route No.        Origin   Destination  No of Buses (Semi Luxury)  \\\n",
       "0  1.0         2       COLOMBO        MATARA                         12   \n",
       "1  2.0     2/4-3  ANURADHAPURA        MATARA                          3   \n",
       "2  3.0       2/8        MATARA        MATALE                          2   \n",
       "3  4.0     2/ 48    KADURUWELA        MATARA                          2   \n",
       "4  5.0     3 - 1       COLOMBO  EMBILIPITIYA                          1   \n",
       "\n",
       "   Operated Buses Per Day  Distance (KM)  No of Trip Per Day (Both Sides)  \\\n",
       "0                      12          160.2                               24   \n",
       "1                       3          376.0                                4   \n",
       "2                       2          301.7                                2   \n",
       "3                       2          382.4                                2   \n",
       "4                       1          165.8                                2   \n",
       "\n",
       "   Operated KM Per Day Travel Time (hours)  \n",
       "0               3844.8                4:45  \n",
       "1               1504.0               10:30  \n",
       "2                603.4                9:00  \n",
       "3                764.8               10:40  \n",
       "4                331.6                4:25  "
      ]
     },
     "execution_count": 7,
     "metadata": {},
     "output_type": "execute_result"
    }
   ],
   "source": [
    "df1.head()"
   ]
  },
  {
   "cell_type": "code",
   "execution_count": 8,
   "id": "762b229c",
   "metadata": {},
   "outputs": [
    {
     "data": {
      "text/plain": [
       "No                                 float64\n",
       "Route No.                           object\n",
       "Origin                              object\n",
       "Destination                         object\n",
       "No of Buses (Semi Luxury)            int64\n",
       "Operated Buses Per Day               int64\n",
       "Distance (KM)                      float64\n",
       "No of Trip Per Day (Both Sides)      int64\n",
       "Operated KM Per Day                float64\n",
       "Travel Time (hours)                 object\n",
       "dtype: object"
      ]
     },
     "execution_count": 8,
     "metadata": {},
     "output_type": "execute_result"
    }
   ],
   "source": [
    "df1.dtypes"
   ]
  },
  {
   "cell_type": "code",
   "execution_count": 9,
   "id": "d0226865",
   "metadata": {},
   "outputs": [
    {
     "data": {
      "text/plain": [
       "No                                 1\n",
       "Route No.                          0\n",
       "Origin                             0\n",
       "Destination                        0\n",
       "No of Buses (Semi Luxury)          0\n",
       "Operated Buses Per Day             0\n",
       "Distance (KM)                      0\n",
       "No of Trip Per Day (Both Sides)    0\n",
       "Operated KM Per Day                0\n",
       "Travel Time (hours)                0\n",
       "dtype: int64"
      ]
     },
     "execution_count": 9,
     "metadata": {},
     "output_type": "execute_result"
    }
   ],
   "source": [
    "df1.isnull().sum()"
   ]
  },
  {
   "cell_type": "code",
   "execution_count": 10,
   "id": "2ed29c74",
   "metadata": {},
   "outputs": [
    {
     "data": {
      "text/plain": [
       "0"
      ]
     },
     "execution_count": 10,
     "metadata": {},
     "output_type": "execute_result"
    }
   ],
   "source": [
    "df1.duplicated().sum()"
   ]
  },
  {
   "cell_type": "code",
   "execution_count": 11,
   "id": "e4ae1cbb",
   "metadata": {},
   "outputs": [
    {
     "name": "stdout",
     "output_type": "stream",
     "text": [
      "<class 'pandas.core.frame.DataFrame'>\n",
      "RangeIndex: 112 entries, 0 to 111\n",
      "Data columns (total 10 columns):\n",
      " #   Column                           Non-Null Count  Dtype  \n",
      "---  ------                           --------------  -----  \n",
      " 0   No                               111 non-null    float64\n",
      " 1   Route No.                        112 non-null    object \n",
      " 2   Origin                           112 non-null    object \n",
      " 3   Destination                      112 non-null    object \n",
      " 4   No of Buses (Semi Luxury)        112 non-null    int64  \n",
      " 5   Operated Buses Per Day           112 non-null    int64  \n",
      " 6   Distance (KM)                    112 non-null    float64\n",
      " 7   No of Trip Per Day (Both Sides)  112 non-null    int64  \n",
      " 8   Operated KM Per Day              112 non-null    float64\n",
      " 9   Travel Time (hours)              112 non-null    object \n",
      "dtypes: float64(3), int64(3), object(4)\n",
      "memory usage: 8.9+ KB\n"
     ]
    }
   ],
   "source": [
    "df1.info()"
   ]
  },
  {
   "cell_type": "code",
   "execution_count": 15,
   "id": "2f6f3a92",
   "metadata": {},
   "outputs": [],
   "source": [
    "df1.rename(columns={\n",
    "    \"No\": \"Serial_No\",\n",
    "    \"Route No.\": \"Route_No\",\n",
    "    \"Origin\": \"Origin\",\n",
    "    \"Destination\": \"Destination\",\n",
    "    \"No of Buses (Semi Luxury)\": \"No_of_Buses\",\n",
    "    \"Operated Buses Per Day\": \"Buses_Per_Day\",\n",
    "    \"Distance (KM)\": \"Distance_KM\",\n",
    "    \"No of Trip Per Day (Both Sides)\": \"Trips_Per_Day\",\n",
    "    \"Operated KM Per Day\": \"KM_Per_Day\",\n",
    "    \"Travel Time (hours)\": \"Travel_Time\"\n",
    "}, inplace=True)"
   ]
  },
  {
   "cell_type": "code",
   "execution_count": 17,
   "id": "f928909b",
   "metadata": {},
   "outputs": [],
   "source": [
    "numeric_cols = [\"Serial_No\", \"No_of_Buses\", \"Buses_Per_Day\", \"Distance_KM\", \"Trips_Per_Day\", \"KM_Per_Day\"]\n",
    "df1[numeric_cols] = df1[numeric_cols].apply(pd.to_numeric, errors='coerce')"
   ]
  },
  {
   "cell_type": "code",
   "execution_count": 21,
   "id": "bd696327",
   "metadata": {},
   "outputs": [
    {
     "data": {
      "text/html": [
       "<div>\n",
       "<style scoped>\n",
       "    .dataframe tbody tr th:only-of-type {\n",
       "        vertical-align: middle;\n",
       "    }\n",
       "\n",
       "    .dataframe tbody tr th {\n",
       "        vertical-align: top;\n",
       "    }\n",
       "\n",
       "    .dataframe thead th {\n",
       "        text-align: right;\n",
       "    }\n",
       "</style>\n",
       "<table border=\"1\" class=\"dataframe\">\n",
       "  <thead>\n",
       "    <tr style=\"text-align: right;\">\n",
       "      <th></th>\n",
       "      <th>Serial_No</th>\n",
       "      <th>Route_No</th>\n",
       "      <th>Origin</th>\n",
       "      <th>Destination</th>\n",
       "      <th>No_of_Buses</th>\n",
       "      <th>Buses_Per_Day</th>\n",
       "      <th>Distance_KM</th>\n",
       "      <th>Trips_Per_Day</th>\n",
       "      <th>KM_Per_Day</th>\n",
       "      <th>Travel_Time</th>\n",
       "    </tr>\n",
       "  </thead>\n",
       "  <tbody>\n",
       "    <tr>\n",
       "      <th>0</th>\n",
       "      <td>1.0</td>\n",
       "      <td>2</td>\n",
       "      <td>COLOMBO</td>\n",
       "      <td>MATARA</td>\n",
       "      <td>12</td>\n",
       "      <td>12</td>\n",
       "      <td>160.2</td>\n",
       "      <td>24</td>\n",
       "      <td>3844.8</td>\n",
       "      <td>0 days 04:45:00</td>\n",
       "    </tr>\n",
       "    <tr>\n",
       "      <th>1</th>\n",
       "      <td>2.0</td>\n",
       "      <td>2/4-3</td>\n",
       "      <td>ANURADHAPURA</td>\n",
       "      <td>MATARA</td>\n",
       "      <td>3</td>\n",
       "      <td>3</td>\n",
       "      <td>376.0</td>\n",
       "      <td>4</td>\n",
       "      <td>1504.0</td>\n",
       "      <td>0 days 10:30:00</td>\n",
       "    </tr>\n",
       "    <tr>\n",
       "      <th>2</th>\n",
       "      <td>3.0</td>\n",
       "      <td>2/8</td>\n",
       "      <td>MATARA</td>\n",
       "      <td>MATALE</td>\n",
       "      <td>2</td>\n",
       "      <td>2</td>\n",
       "      <td>301.7</td>\n",
       "      <td>2</td>\n",
       "      <td>603.4</td>\n",
       "      <td>0 days 09:00:00</td>\n",
       "    </tr>\n",
       "    <tr>\n",
       "      <th>3</th>\n",
       "      <td>4.0</td>\n",
       "      <td>2/ 48</td>\n",
       "      <td>KADURUWELA</td>\n",
       "      <td>MATARA</td>\n",
       "      <td>2</td>\n",
       "      <td>2</td>\n",
       "      <td>382.4</td>\n",
       "      <td>2</td>\n",
       "      <td>764.8</td>\n",
       "      <td>0 days 10:40:00</td>\n",
       "    </tr>\n",
       "    <tr>\n",
       "      <th>4</th>\n",
       "      <td>5.0</td>\n",
       "      <td>3 - 1</td>\n",
       "      <td>COLOMBO</td>\n",
       "      <td>EMBILIPITIYA</td>\n",
       "      <td>1</td>\n",
       "      <td>1</td>\n",
       "      <td>165.8</td>\n",
       "      <td>2</td>\n",
       "      <td>331.6</td>\n",
       "      <td>0 days 04:25:00</td>\n",
       "    </tr>\n",
       "  </tbody>\n",
       "</table>\n",
       "</div>"
      ],
      "text/plain": [
       "   Serial_No Route_No        Origin   Destination  No_of_Buses  Buses_Per_Day  \\\n",
       "0        1.0        2       COLOMBO        MATARA           12             12   \n",
       "1        2.0    2/4-3  ANURADHAPURA        MATARA            3              3   \n",
       "2        3.0      2/8        MATARA        MATALE            2              2   \n",
       "3        4.0    2/ 48    KADURUWELA        MATARA            2              2   \n",
       "4        5.0    3 - 1       COLOMBO  EMBILIPITIYA            1              1   \n",
       "\n",
       "   Distance_KM  Trips_Per_Day  KM_Per_Day     Travel_Time  \n",
       "0        160.2             24      3844.8 0 days 04:45:00  \n",
       "1        376.0              4      1504.0 0 days 10:30:00  \n",
       "2        301.7              2       603.4 0 days 09:00:00  \n",
       "3        382.4              2       764.8 0 days 10:40:00  \n",
       "4        165.8              2       331.6 0 days 04:25:00  "
      ]
     },
     "execution_count": 21,
     "metadata": {},
     "output_type": "execute_result"
    }
   ],
   "source": [
    "df1.head()"
   ]
  },
  {
   "cell_type": "code",
   "execution_count": 24,
   "id": "608df72e",
   "metadata": {},
   "outputs": [],
   "source": [
    "df1.to_csv(\"cleaned_dataset.csv\")"
   ]
  }
 ],
 "metadata": {
  "kernelspec": {
   "display_name": "base",
   "language": "python",
   "name": "python3"
  },
  "language_info": {
   "codemirror_mode": {
    "name": "ipython",
    "version": 3
   },
   "file_extension": ".py",
   "mimetype": "text/x-python",
   "name": "python",
   "nbconvert_exporter": "python",
   "pygments_lexer": "ipython3",
   "version": "3.11.5"
  }
 },
 "nbformat": 4,
 "nbformat_minor": 5
}
